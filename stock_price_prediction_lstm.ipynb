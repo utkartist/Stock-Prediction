{
  "metadata": {
    "kernelspec": {
      "language": "python",
      "display_name": "Python 3",
      "name": "python3"
    },
    "language_info": {
      "name": "python",
      "version": "3.7.12",
      "mimetype": "text/x-python",
      "codemirror_mode": {
        "name": "ipython",
        "version": 3
      },
      "pygments_lexer": "ipython3",
      "nbconvert_exporter": "python",
      "file_extension": ".py"
    },
    "colab": {
      "provenance": []
    }
  },
  "nbformat_minor": 0,
  "nbformat": 4,
  "cells": [
    {
      "cell_type": "markdown",
      "source": [
        "<center><img src=\"https://github.com/vainero/Files/blob/main/Stock.gif?raw=true\"></center>\n",
        "<h1 style=\"color:#d16969; font-style:italic; font-family:JetBrains Mono; font-weight:normal; letter-spacing: 2px;\"> <center>Thanks for visiting my notebook!</center> </h1>\n",
        "\n",
        "# <p style=\"font-family:JetBrains Mono; font-weight:normal; letter-spacing: 2px; color:#145f19; font-size:100%; text-align:center;padding: 0px; border-bottom: 3px solid #145f19\">Content</p>\n",
        "<a href=\"https://machinelearningknowledge.ai/keras-lstm-layer-explained-for-beginners-with-example/\"><img src=\"https://github.com/vainero/Files/blob/main/LSTM_logo.png?raw=true\" width=\"15%\" height=\"10%\" align=\"right\" /></a>\n",
        "\n",
        "\n",
        "* In this notebook, we will focus on the **[Long Short-Term Memory (LSTM)](https://keras.io/api/layers/recurrent_layers/lstm/)** layer model in **[Keras](https://keras.io/guides/working_with_rnns/)** to predict if the stock will go up or down.\n",
        "\n",
        "* Historical daliy **[Netflix (NFLX)](https://www.kaggle.com/datasets/meetnagadia/netflix-stock-price-data-set-20022022)** stock price was collected from Yahoo Finance."
      ],
      "metadata": {
        "id": "2_pOv-p9Z1Vd"
      }
    },
    {
      "cell_type": "markdown",
      "source": [
        "# <p style=\"font-family:JetBrains Mono; font-weight:normal; letter-spacing: 2px; color:#145f19; font-size:100%; text-align:center;padding: 0px; border-bottom: 3px solid #145f19\">Import Libraries</p>"
      ],
      "metadata": {
        "id": "14vXiHbtZ1Vf"
      }
    },
    {
      "cell_type": "code",
      "source": [
        "import pandas as pd\n",
        "import numpy as np\n",
        "import matplotlib.pyplot as plt\n",
        "from sklearn.preprocessing import MinMaxScaler\n",
        "from sklearn.metrics import mean_absolute_error\n",
        "from keras.models import Sequential, load_model\n",
        "from keras.layers import LSTM, Dense, Dropout\n",
        "%matplotlib inline\n",
        "\n",
        "import warnings\n",
        "warnings.filterwarnings(\"ignore\")\n"
      ],
      "metadata": {
        "execution": {
          "iopub.status.busy": "2023-01-10T14:45:58.921082Z",
          "iopub.execute_input": "2023-01-10T14:45:58.921848Z",
          "iopub.status.idle": "2023-01-10T14:46:04.068239Z",
          "shell.execute_reply.started": "2023-01-10T14:45:58.921748Z",
          "shell.execute_reply": "2023-01-10T14:46:04.067275Z"
        },
        "trusted": true,
        "id": "RvljMcB1Z1Vf"
      },
      "execution_count": null,
      "outputs": []
    },
    {
      "cell_type": "code",
      "source": [
        "# Set colors\n",
        "class color:\n",
        "    GREEN, RED = '\\033[92m', '\\033[91m'\n",
        "    BOLD, UNDERLINE, END = '\\033[1m', '\\033[4m', '\\033[0m'\n",
        "    GREEN_BOLD = GREEN + BOLD\n",
        "    RED_BOLD = RED + BOLD\n",
        "    GREEN_BOLD_UND = GREEN_BOLD + UNDERLINE\n",
        "\n",
        "rb, gb,  = color.RED_BOLD, color.GREEN_BOLD\n",
        "gbu, end = color.GREEN_BOLD_UND, color.END"
      ],
      "metadata": {
        "execution": {
          "iopub.status.busy": "2023-01-10T14:46:04.069938Z",
          "iopub.execute_input": "2023-01-10T14:46:04.070548Z",
          "iopub.status.idle": "2023-01-10T14:46:04.079086Z",
          "shell.execute_reply.started": "2023-01-10T14:46:04.070511Z",
          "shell.execute_reply": "2023-01-10T14:46:04.078191Z"
        },
        "trusted": true,
        "id": "6tUUM-0iZ1Vg"
      },
      "execution_count": null,
      "outputs": []
    },
    {
      "cell_type": "markdown",
      "source": [
        "# <p style=\"font-family:JetBrains Mono; font-weight:normal; letter-spacing: 2px; color:#145f19; font-size:100%; text-align:center;padding: 0px; border-bottom: 3px solid #145f19\">Loading Data</p>"
      ],
      "metadata": {
        "id": "f7q7EkzVZ1Vg"
      }
    },
    {
      "cell_type": "code",
      "source": [
        "data = pd.read_csv('NFLX[1].csv')\n",
        "data.head()"
      ],
      "metadata": {
        "execution": {
          "iopub.status.busy": "2023-01-10T14:46:12.272773Z",
          "iopub.execute_input": "2023-01-10T14:46:12.273467Z",
          "iopub.status.idle": "2023-01-10T14:46:12.315508Z",
          "shell.execute_reply.started": "2023-01-10T14:46:12.273430Z",
          "shell.execute_reply": "2023-01-10T14:46:12.313934Z"
        },
        "trusted": true,
        "colab": {
          "base_uri": "https://localhost:8080/",
          "height": 206
        },
        "id": "KjRK4vM_Z1Vh",
        "outputId": "45254218-f54f-4cae-fafa-bae672f89af9"
      },
      "execution_count": null,
      "outputs": [
        {
          "output_type": "execute_result",
          "data": {
            "text/plain": [
              "         Date      Open      High       Low     Close  Adj Close     Volume\n",
              "0  2002-05-23  1.156429  1.242857  1.145714  1.196429   1.196429  104790000\n",
              "1  2002-05-24  1.214286  1.225000  1.197143  1.210000   1.210000   11104800\n",
              "2  2002-05-28  1.213571  1.232143  1.157143  1.157143   1.157143    6609400\n",
              "3  2002-05-29  1.164286  1.164286  1.085714  1.103571   1.103571    6757800\n",
              "4  2002-05-30  1.107857  1.107857  1.071429  1.071429   1.071429   10154200"
            ],
            "text/html": [
              "\n",
              "  <div id=\"df-e055ad3a-108f-47d1-87ae-76ca547ae00b\" class=\"colab-df-container\">\n",
              "    <div>\n",
              "<style scoped>\n",
              "    .dataframe tbody tr th:only-of-type {\n",
              "        vertical-align: middle;\n",
              "    }\n",
              "\n",
              "    .dataframe tbody tr th {\n",
              "        vertical-align: top;\n",
              "    }\n",
              "\n",
              "    .dataframe thead th {\n",
              "        text-align: right;\n",
              "    }\n",
              "</style>\n",
              "<table border=\"1\" class=\"dataframe\">\n",
              "  <thead>\n",
              "    <tr style=\"text-align: right;\">\n",
              "      <th></th>\n",
              "      <th>Date</th>\n",
              "      <th>Open</th>\n",
              "      <th>High</th>\n",
              "      <th>Low</th>\n",
              "      <th>Close</th>\n",
              "      <th>Adj Close</th>\n",
              "      <th>Volume</th>\n",
              "    </tr>\n",
              "  </thead>\n",
              "  <tbody>\n",
              "    <tr>\n",
              "      <th>0</th>\n",
              "      <td>2002-05-23</td>\n",
              "      <td>1.156429</td>\n",
              "      <td>1.242857</td>\n",
              "      <td>1.145714</td>\n",
              "      <td>1.196429</td>\n",
              "      <td>1.196429</td>\n",
              "      <td>104790000</td>\n",
              "    </tr>\n",
              "    <tr>\n",
              "      <th>1</th>\n",
              "      <td>2002-05-24</td>\n",
              "      <td>1.214286</td>\n",
              "      <td>1.225000</td>\n",
              "      <td>1.197143</td>\n",
              "      <td>1.210000</td>\n",
              "      <td>1.210000</td>\n",
              "      <td>11104800</td>\n",
              "    </tr>\n",
              "    <tr>\n",
              "      <th>2</th>\n",
              "      <td>2002-05-28</td>\n",
              "      <td>1.213571</td>\n",
              "      <td>1.232143</td>\n",
              "      <td>1.157143</td>\n",
              "      <td>1.157143</td>\n",
              "      <td>1.157143</td>\n",
              "      <td>6609400</td>\n",
              "    </tr>\n",
              "    <tr>\n",
              "      <th>3</th>\n",
              "      <td>2002-05-29</td>\n",
              "      <td>1.164286</td>\n",
              "      <td>1.164286</td>\n",
              "      <td>1.085714</td>\n",
              "      <td>1.103571</td>\n",
              "      <td>1.103571</td>\n",
              "      <td>6757800</td>\n",
              "    </tr>\n",
              "    <tr>\n",
              "      <th>4</th>\n",
              "      <td>2002-05-30</td>\n",
              "      <td>1.107857</td>\n",
              "      <td>1.107857</td>\n",
              "      <td>1.071429</td>\n",
              "      <td>1.071429</td>\n",
              "      <td>1.071429</td>\n",
              "      <td>10154200</td>\n",
              "    </tr>\n",
              "  </tbody>\n",
              "</table>\n",
              "</div>\n",
              "    <div class=\"colab-df-buttons\">\n",
              "\n",
              "  <div class=\"colab-df-container\">\n",
              "    <button class=\"colab-df-convert\" onclick=\"convertToInteractive('df-e055ad3a-108f-47d1-87ae-76ca547ae00b')\"\n",
              "            title=\"Convert this dataframe to an interactive table.\"\n",
              "            style=\"display:none;\">\n",
              "\n",
              "  <svg xmlns=\"http://www.w3.org/2000/svg\" height=\"24px\" viewBox=\"0 -960 960 960\">\n",
              "    <path d=\"M120-120v-720h720v720H120Zm60-500h600v-160H180v160Zm220 220h160v-160H400v160Zm0 220h160v-160H400v160ZM180-400h160v-160H180v160Zm440 0h160v-160H620v160ZM180-180h160v-160H180v160Zm440 0h160v-160H620v160Z\"/>\n",
              "  </svg>\n",
              "    </button>\n",
              "\n",
              "  <style>\n",
              "    .colab-df-container {\n",
              "      display:flex;\n",
              "      gap: 12px;\n",
              "    }\n",
              "\n",
              "    .colab-df-convert {\n",
              "      background-color: #E8F0FE;\n",
              "      border: none;\n",
              "      border-radius: 50%;\n",
              "      cursor: pointer;\n",
              "      display: none;\n",
              "      fill: #1967D2;\n",
              "      height: 32px;\n",
              "      padding: 0 0 0 0;\n",
              "      width: 32px;\n",
              "    }\n",
              "\n",
              "    .colab-df-convert:hover {\n",
              "      background-color: #E2EBFA;\n",
              "      box-shadow: 0px 1px 2px rgba(60, 64, 67, 0.3), 0px 1px 3px 1px rgba(60, 64, 67, 0.15);\n",
              "      fill: #174EA6;\n",
              "    }\n",
              "\n",
              "    .colab-df-buttons div {\n",
              "      margin-bottom: 4px;\n",
              "    }\n",
              "\n",
              "    [theme=dark] .colab-df-convert {\n",
              "      background-color: #3B4455;\n",
              "      fill: #D2E3FC;\n",
              "    }\n",
              "\n",
              "    [theme=dark] .colab-df-convert:hover {\n",
              "      background-color: #434B5C;\n",
              "      box-shadow: 0px 1px 3px 1px rgba(0, 0, 0, 0.15);\n",
              "      filter: drop-shadow(0px 1px 2px rgba(0, 0, 0, 0.3));\n",
              "      fill: #FFFFFF;\n",
              "    }\n",
              "  </style>\n",
              "\n",
              "    <script>\n",
              "      const buttonEl =\n",
              "        document.querySelector('#df-e055ad3a-108f-47d1-87ae-76ca547ae00b button.colab-df-convert');\n",
              "      buttonEl.style.display =\n",
              "        google.colab.kernel.accessAllowed ? 'block' : 'none';\n",
              "\n",
              "      async function convertToInteractive(key) {\n",
              "        const element = document.querySelector('#df-e055ad3a-108f-47d1-87ae-76ca547ae00b');\n",
              "        const dataTable =\n",
              "          await google.colab.kernel.invokeFunction('convertToInteractive',\n",
              "                                                    [key], {});\n",
              "        if (!dataTable) return;\n",
              "\n",
              "        const docLinkHtml = 'Like what you see? Visit the ' +\n",
              "          '<a target=\"_blank\" href=https://colab.research.google.com/notebooks/data_table.ipynb>data table notebook</a>'\n",
              "          + ' to learn more about interactive tables.';\n",
              "        element.innerHTML = '';\n",
              "        dataTable['output_type'] = 'display_data';\n",
              "        await google.colab.output.renderOutput(dataTable, element);\n",
              "        const docLink = document.createElement('div');\n",
              "        docLink.innerHTML = docLinkHtml;\n",
              "        element.appendChild(docLink);\n",
              "      }\n",
              "    </script>\n",
              "  </div>\n",
              "\n",
              "\n",
              "<div id=\"df-c8caf509-2dc1-4c74-ab36-10c2c2159fa1\">\n",
              "  <button class=\"colab-df-quickchart\" onclick=\"quickchart('df-c8caf509-2dc1-4c74-ab36-10c2c2159fa1')\"\n",
              "            title=\"Suggest charts\"\n",
              "            style=\"display:none;\">\n",
              "\n",
              "<svg xmlns=\"http://www.w3.org/2000/svg\" height=\"24px\"viewBox=\"0 0 24 24\"\n",
              "     width=\"24px\">\n",
              "    <g>\n",
              "        <path d=\"M19 3H5c-1.1 0-2 .9-2 2v14c0 1.1.9 2 2 2h14c1.1 0 2-.9 2-2V5c0-1.1-.9-2-2-2zM9 17H7v-7h2v7zm4 0h-2V7h2v10zm4 0h-2v-4h2v4z\"/>\n",
              "    </g>\n",
              "</svg>\n",
              "  </button>\n",
              "\n",
              "<style>\n",
              "  .colab-df-quickchart {\n",
              "      --bg-color: #E8F0FE;\n",
              "      --fill-color: #1967D2;\n",
              "      --hover-bg-color: #E2EBFA;\n",
              "      --hover-fill-color: #174EA6;\n",
              "      --disabled-fill-color: #AAA;\n",
              "      --disabled-bg-color: #DDD;\n",
              "  }\n",
              "\n",
              "  [theme=dark] .colab-df-quickchart {\n",
              "      --bg-color: #3B4455;\n",
              "      --fill-color: #D2E3FC;\n",
              "      --hover-bg-color: #434B5C;\n",
              "      --hover-fill-color: #FFFFFF;\n",
              "      --disabled-bg-color: #3B4455;\n",
              "      --disabled-fill-color: #666;\n",
              "  }\n",
              "\n",
              "  .colab-df-quickchart {\n",
              "    background-color: var(--bg-color);\n",
              "    border: none;\n",
              "    border-radius: 50%;\n",
              "    cursor: pointer;\n",
              "    display: none;\n",
              "    fill: var(--fill-color);\n",
              "    height: 32px;\n",
              "    padding: 0;\n",
              "    width: 32px;\n",
              "  }\n",
              "\n",
              "  .colab-df-quickchart:hover {\n",
              "    background-color: var(--hover-bg-color);\n",
              "    box-shadow: 0 1px 2px rgba(60, 64, 67, 0.3), 0 1px 3px 1px rgba(60, 64, 67, 0.15);\n",
              "    fill: var(--button-hover-fill-color);\n",
              "  }\n",
              "\n",
              "  .colab-df-quickchart-complete:disabled,\n",
              "  .colab-df-quickchart-complete:disabled:hover {\n",
              "    background-color: var(--disabled-bg-color);\n",
              "    fill: var(--disabled-fill-color);\n",
              "    box-shadow: none;\n",
              "  }\n",
              "\n",
              "  .colab-df-spinner {\n",
              "    border: 2px solid var(--fill-color);\n",
              "    border-color: transparent;\n",
              "    border-bottom-color: var(--fill-color);\n",
              "    animation:\n",
              "      spin 1s steps(1) infinite;\n",
              "  }\n",
              "\n",
              "  @keyframes spin {\n",
              "    0% {\n",
              "      border-color: transparent;\n",
              "      border-bottom-color: var(--fill-color);\n",
              "      border-left-color: var(--fill-color);\n",
              "    }\n",
              "    20% {\n",
              "      border-color: transparent;\n",
              "      border-left-color: var(--fill-color);\n",
              "      border-top-color: var(--fill-color);\n",
              "    }\n",
              "    30% {\n",
              "      border-color: transparent;\n",
              "      border-left-color: var(--fill-color);\n",
              "      border-top-color: var(--fill-color);\n",
              "      border-right-color: var(--fill-color);\n",
              "    }\n",
              "    40% {\n",
              "      border-color: transparent;\n",
              "      border-right-color: var(--fill-color);\n",
              "      border-top-color: var(--fill-color);\n",
              "    }\n",
              "    60% {\n",
              "      border-color: transparent;\n",
              "      border-right-color: var(--fill-color);\n",
              "    }\n",
              "    80% {\n",
              "      border-color: transparent;\n",
              "      border-right-color: var(--fill-color);\n",
              "      border-bottom-color: var(--fill-color);\n",
              "    }\n",
              "    90% {\n",
              "      border-color: transparent;\n",
              "      border-bottom-color: var(--fill-color);\n",
              "    }\n",
              "  }\n",
              "</style>\n",
              "\n",
              "  <script>\n",
              "    async function quickchart(key) {\n",
              "      const quickchartButtonEl =\n",
              "        document.querySelector('#' + key + ' button');\n",
              "      quickchartButtonEl.disabled = true;  // To prevent multiple clicks.\n",
              "      quickchartButtonEl.classList.add('colab-df-spinner');\n",
              "      try {\n",
              "        const charts = await google.colab.kernel.invokeFunction(\n",
              "            'suggestCharts', [key], {});\n",
              "      } catch (error) {\n",
              "        console.error('Error during call to suggestCharts:', error);\n",
              "      }\n",
              "      quickchartButtonEl.classList.remove('colab-df-spinner');\n",
              "      quickchartButtonEl.classList.add('colab-df-quickchart-complete');\n",
              "    }\n",
              "    (() => {\n",
              "      let quickchartButtonEl =\n",
              "        document.querySelector('#df-c8caf509-2dc1-4c74-ab36-10c2c2159fa1 button');\n",
              "      quickchartButtonEl.style.display =\n",
              "        google.colab.kernel.accessAllowed ? 'block' : 'none';\n",
              "    })();\n",
              "  </script>\n",
              "</div>\n",
              "\n",
              "    </div>\n",
              "  </div>\n"
            ]
          },
          "metadata": {},
          "execution_count": 5
        }
      ]
    },
    {
      "cell_type": "markdown",
      "source": [
        "<div style=\"border-radius:5px;\n",
        "            background-color:#ffffff;\n",
        "            border-style: solid;\n",
        "            border-color: #145f19;\n",
        "            letter-spacing:1px;             \n",
        "            font-size:16px;\n",
        "            padding: 10px;\">\n",
        "\n",
        "|<font color='#145f19'>Price</font> | <font color='#145f19'>Description</font>\n",
        "|:--- | :---|\n",
        "|<font color='darkred'>Open</font>| The price of the stock at the beginning of the trading day\n",
        "|<font color='darkred'>High</font>| The highest price of the stock on the trading day\n",
        "|<font color='darkred'>Low</font> | The lowest price of the stock on the trading day\n",
        "|<font color='darkred'>Close</font>| The last price of the stock before the trading day ends"
      ],
      "metadata": {
        "id": "-x05SFPkZ1Vh"
      }
    },
    {
      "cell_type": "code",
      "source": [
        "data.info()"
      ],
      "metadata": {
        "execution": {
          "iopub.status.busy": "2023-01-10T14:46:15.181963Z",
          "iopub.execute_input": "2023-01-10T14:46:15.182341Z",
          "iopub.status.idle": "2023-01-10T14:46:15.207545Z",
          "shell.execute_reply.started": "2023-01-10T14:46:15.182307Z",
          "shell.execute_reply": "2023-01-10T14:46:15.206427Z"
        },
        "trusted": true,
        "colab": {
          "base_uri": "https://localhost:8080/"
        },
        "id": "4w-yOx-eZ1Vh",
        "outputId": "8ff4a9ee-9adb-4da6-be04-b3b3d4e23b4f"
      },
      "execution_count": null,
      "outputs": [
        {
          "output_type": "stream",
          "name": "stdout",
          "text": [
            "<class 'pandas.core.frame.DataFrame'>\n",
            "RangeIndex: 5044 entries, 0 to 5043\n",
            "Data columns (total 7 columns):\n",
            " #   Column     Non-Null Count  Dtype  \n",
            "---  ------     --------------  -----  \n",
            " 0   Date       5044 non-null   object \n",
            " 1   Open       5044 non-null   float64\n",
            " 2   High       5044 non-null   float64\n",
            " 3   Low        5044 non-null   float64\n",
            " 4   Close      5044 non-null   float64\n",
            " 5   Adj Close  5044 non-null   float64\n",
            " 6   Volume     5044 non-null   int64  \n",
            "dtypes: float64(5), int64(1), object(1)\n",
            "memory usage: 276.0+ KB\n"
          ]
        }
      ]
    },
    {
      "cell_type": "code",
      "source": [
        "# Convert the type of \"Date\" column into date-time\n",
        "data[\"Date\"] = pd.to_datetime(data[\"Date\"])\n",
        "print (data.dtypes)"
      ],
      "metadata": {
        "execution": {
          "iopub.status.busy": "2023-01-10T14:46:17.223525Z",
          "iopub.execute_input": "2023-01-10T14:46:17.224730Z",
          "iopub.status.idle": "2023-01-10T14:46:17.234632Z",
          "shell.execute_reply.started": "2023-01-10T14:46:17.224686Z",
          "shell.execute_reply": "2023-01-10T14:46:17.233669Z"
        },
        "trusted": true,
        "colab": {
          "base_uri": "https://localhost:8080/"
        },
        "id": "AcjjPQ3nZ1Vh",
        "outputId": "fb88fd39-3a13-41dd-9a26-962997493c8e"
      },
      "execution_count": null,
      "outputs": [
        {
          "output_type": "stream",
          "name": "stdout",
          "text": [
            "Date         datetime64[ns]\n",
            "Open                float64\n",
            "High                float64\n",
            "Low                 float64\n",
            "Close               float64\n",
            "Adj Close           float64\n",
            "Volume                int64\n",
            "dtype: object\n"
          ]
        }
      ]
    },
    {
      "cell_type": "code",
      "source": [
        "# Add the \"Year\", 'Month' and \"Day\" columns\n",
        "data[\"Year\"] = data[\"Date\"].apply(lambda x : str(x)[:4])\n",
        "data[\"Month\"] = data[\"Date\"].apply(lambda x : str(x)[5:7])\n",
        "data[\"Day\"] = data[\"Date\"].apply(lambda x : str(x)[8:10])\n",
        "\n",
        "data.head(3)"
      ],
      "metadata": {
        "execution": {
          "iopub.status.busy": "2023-01-10T14:46:18.884143Z",
          "iopub.execute_input": "2023-01-10T14:46:18.884500Z",
          "iopub.status.idle": "2023-01-10T14:46:18.974660Z",
          "shell.execute_reply.started": "2023-01-10T14:46:18.884470Z",
          "shell.execute_reply": "2023-01-10T14:46:18.973581Z"
        },
        "trusted": true,
        "colab": {
          "base_uri": "https://localhost:8080/",
          "height": 143
        },
        "id": "-zayQBOfZ1Vi",
        "outputId": "4faf2e84-2fe7-4808-8248-cc2c48dc4765"
      },
      "execution_count": null,
      "outputs": [
        {
          "output_type": "execute_result",
          "data": {
            "text/plain": [
              "        Date      Open      High       Low     Close  Adj Close     Volume  \\\n",
              "0 2002-05-23  1.156429  1.242857  1.145714  1.196429   1.196429  104790000   \n",
              "1 2002-05-24  1.214286  1.225000  1.197143  1.210000   1.210000   11104800   \n",
              "2 2002-05-28  1.213571  1.232143  1.157143  1.157143   1.157143    6609400   \n",
              "\n",
              "   Year Month Day  \n",
              "0  2002    05  23  \n",
              "1  2002    05  24  \n",
              "2  2002    05  28  "
            ],
            "text/html": [
              "\n",
              "  <div id=\"df-26256ab6-58e1-4a19-ba0f-e40a5825fafa\" class=\"colab-df-container\">\n",
              "    <div>\n",
              "<style scoped>\n",
              "    .dataframe tbody tr th:only-of-type {\n",
              "        vertical-align: middle;\n",
              "    }\n",
              "\n",
              "    .dataframe tbody tr th {\n",
              "        vertical-align: top;\n",
              "    }\n",
              "\n",
              "    .dataframe thead th {\n",
              "        text-align: right;\n",
              "    }\n",
              "</style>\n",
              "<table border=\"1\" class=\"dataframe\">\n",
              "  <thead>\n",
              "    <tr style=\"text-align: right;\">\n",
              "      <th></th>\n",
              "      <th>Date</th>\n",
              "      <th>Open</th>\n",
              "      <th>High</th>\n",
              "      <th>Low</th>\n",
              "      <th>Close</th>\n",
              "      <th>Adj Close</th>\n",
              "      <th>Volume</th>\n",
              "      <th>Year</th>\n",
              "      <th>Month</th>\n",
              "      <th>Day</th>\n",
              "    </tr>\n",
              "  </thead>\n",
              "  <tbody>\n",
              "    <tr>\n",
              "      <th>0</th>\n",
              "      <td>2002-05-23</td>\n",
              "      <td>1.156429</td>\n",
              "      <td>1.242857</td>\n",
              "      <td>1.145714</td>\n",
              "      <td>1.196429</td>\n",
              "      <td>1.196429</td>\n",
              "      <td>104790000</td>\n",
              "      <td>2002</td>\n",
              "      <td>05</td>\n",
              "      <td>23</td>\n",
              "    </tr>\n",
              "    <tr>\n",
              "      <th>1</th>\n",
              "      <td>2002-05-24</td>\n",
              "      <td>1.214286</td>\n",
              "      <td>1.225000</td>\n",
              "      <td>1.197143</td>\n",
              "      <td>1.210000</td>\n",
              "      <td>1.210000</td>\n",
              "      <td>11104800</td>\n",
              "      <td>2002</td>\n",
              "      <td>05</td>\n",
              "      <td>24</td>\n",
              "    </tr>\n",
              "    <tr>\n",
              "      <th>2</th>\n",
              "      <td>2002-05-28</td>\n",
              "      <td>1.213571</td>\n",
              "      <td>1.232143</td>\n",
              "      <td>1.157143</td>\n",
              "      <td>1.157143</td>\n",
              "      <td>1.157143</td>\n",
              "      <td>6609400</td>\n",
              "      <td>2002</td>\n",
              "      <td>05</td>\n",
              "      <td>28</td>\n",
              "    </tr>\n",
              "  </tbody>\n",
              "</table>\n",
              "</div>\n",
              "    <div class=\"colab-df-buttons\">\n",
              "\n",
              "  <div class=\"colab-df-container\">\n",
              "    <button class=\"colab-df-convert\" onclick=\"convertToInteractive('df-26256ab6-58e1-4a19-ba0f-e40a5825fafa')\"\n",
              "            title=\"Convert this dataframe to an interactive table.\"\n",
              "            style=\"display:none;\">\n",
              "\n",
              "  <svg xmlns=\"http://www.w3.org/2000/svg\" height=\"24px\" viewBox=\"0 -960 960 960\">\n",
              "    <path d=\"M120-120v-720h720v720H120Zm60-500h600v-160H180v160Zm220 220h160v-160H400v160Zm0 220h160v-160H400v160ZM180-400h160v-160H180v160Zm440 0h160v-160H620v160ZM180-180h160v-160H180v160Zm440 0h160v-160H620v160Z\"/>\n",
              "  </svg>\n",
              "    </button>\n",
              "\n",
              "  <style>\n",
              "    .colab-df-container {\n",
              "      display:flex;\n",
              "      gap: 12px;\n",
              "    }\n",
              "\n",
              "    .colab-df-convert {\n",
              "      background-color: #E8F0FE;\n",
              "      border: none;\n",
              "      border-radius: 50%;\n",
              "      cursor: pointer;\n",
              "      display: none;\n",
              "      fill: #1967D2;\n",
              "      height: 32px;\n",
              "      padding: 0 0 0 0;\n",
              "      width: 32px;\n",
              "    }\n",
              "\n",
              "    .colab-df-convert:hover {\n",
              "      background-color: #E2EBFA;\n",
              "      box-shadow: 0px 1px 2px rgba(60, 64, 67, 0.3), 0px 1px 3px 1px rgba(60, 64, 67, 0.15);\n",
              "      fill: #174EA6;\n",
              "    }\n",
              "\n",
              "    .colab-df-buttons div {\n",
              "      margin-bottom: 4px;\n",
              "    }\n",
              "\n",
              "    [theme=dark] .colab-df-convert {\n",
              "      background-color: #3B4455;\n",
              "      fill: #D2E3FC;\n",
              "    }\n",
              "\n",
              "    [theme=dark] .colab-df-convert:hover {\n",
              "      background-color: #434B5C;\n",
              "      box-shadow: 0px 1px 3px 1px rgba(0, 0, 0, 0.15);\n",
              "      filter: drop-shadow(0px 1px 2px rgba(0, 0, 0, 0.3));\n",
              "      fill: #FFFFFF;\n",
              "    }\n",
              "  </style>\n",
              "\n",
              "    <script>\n",
              "      const buttonEl =\n",
              "        document.querySelector('#df-26256ab6-58e1-4a19-ba0f-e40a5825fafa button.colab-df-convert');\n",
              "      buttonEl.style.display =\n",
              "        google.colab.kernel.accessAllowed ? 'block' : 'none';\n",
              "\n",
              "      async function convertToInteractive(key) {\n",
              "        const element = document.querySelector('#df-26256ab6-58e1-4a19-ba0f-e40a5825fafa');\n",
              "        const dataTable =\n",
              "          await google.colab.kernel.invokeFunction('convertToInteractive',\n",
              "                                                    [key], {});\n",
              "        if (!dataTable) return;\n",
              "\n",
              "        const docLinkHtml = 'Like what you see? Visit the ' +\n",
              "          '<a target=\"_blank\" href=https://colab.research.google.com/notebooks/data_table.ipynb>data table notebook</a>'\n",
              "          + ' to learn more about interactive tables.';\n",
              "        element.innerHTML = '';\n",
              "        dataTable['output_type'] = 'display_data';\n",
              "        await google.colab.output.renderOutput(dataTable, element);\n",
              "        const docLink = document.createElement('div');\n",
              "        docLink.innerHTML = docLinkHtml;\n",
              "        element.appendChild(docLink);\n",
              "      }\n",
              "    </script>\n",
              "  </div>\n",
              "\n",
              "\n",
              "<div id=\"df-95242984-8abb-4f4d-b671-9087d00399c8\">\n",
              "  <button class=\"colab-df-quickchart\" onclick=\"quickchart('df-95242984-8abb-4f4d-b671-9087d00399c8')\"\n",
              "            title=\"Suggest charts\"\n",
              "            style=\"display:none;\">\n",
              "\n",
              "<svg xmlns=\"http://www.w3.org/2000/svg\" height=\"24px\"viewBox=\"0 0 24 24\"\n",
              "     width=\"24px\">\n",
              "    <g>\n",
              "        <path d=\"M19 3H5c-1.1 0-2 .9-2 2v14c0 1.1.9 2 2 2h14c1.1 0 2-.9 2-2V5c0-1.1-.9-2-2-2zM9 17H7v-7h2v7zm4 0h-2V7h2v10zm4 0h-2v-4h2v4z\"/>\n",
              "    </g>\n",
              "</svg>\n",
              "  </button>\n",
              "\n",
              "<style>\n",
              "  .colab-df-quickchart {\n",
              "      --bg-color: #E8F0FE;\n",
              "      --fill-color: #1967D2;\n",
              "      --hover-bg-color: #E2EBFA;\n",
              "      --hover-fill-color: #174EA6;\n",
              "      --disabled-fill-color: #AAA;\n",
              "      --disabled-bg-color: #DDD;\n",
              "  }\n",
              "\n",
              "  [theme=dark] .colab-df-quickchart {\n",
              "      --bg-color: #3B4455;\n",
              "      --fill-color: #D2E3FC;\n",
              "      --hover-bg-color: #434B5C;\n",
              "      --hover-fill-color: #FFFFFF;\n",
              "      --disabled-bg-color: #3B4455;\n",
              "      --disabled-fill-color: #666;\n",
              "  }\n",
              "\n",
              "  .colab-df-quickchart {\n",
              "    background-color: var(--bg-color);\n",
              "    border: none;\n",
              "    border-radius: 50%;\n",
              "    cursor: pointer;\n",
              "    display: none;\n",
              "    fill: var(--fill-color);\n",
              "    height: 32px;\n",
              "    padding: 0;\n",
              "    width: 32px;\n",
              "  }\n",
              "\n",
              "  .colab-df-quickchart:hover {\n",
              "    background-color: var(--hover-bg-color);\n",
              "    box-shadow: 0 1px 2px rgba(60, 64, 67, 0.3), 0 1px 3px 1px rgba(60, 64, 67, 0.15);\n",
              "    fill: var(--button-hover-fill-color);\n",
              "  }\n",
              "\n",
              "  .colab-df-quickchart-complete:disabled,\n",
              "  .colab-df-quickchart-complete:disabled:hover {\n",
              "    background-color: var(--disabled-bg-color);\n",
              "    fill: var(--disabled-fill-color);\n",
              "    box-shadow: none;\n",
              "  }\n",
              "\n",
              "  .colab-df-spinner {\n",
              "    border: 2px solid var(--fill-color);\n",
              "    border-color: transparent;\n",
              "    border-bottom-color: var(--fill-color);\n",
              "    animation:\n",
              "      spin 1s steps(1) infinite;\n",
              "  }\n",
              "\n",
              "  @keyframes spin {\n",
              "    0% {\n",
              "      border-color: transparent;\n",
              "      border-bottom-color: var(--fill-color);\n",
              "      border-left-color: var(--fill-color);\n",
              "    }\n",
              "    20% {\n",
              "      border-color: transparent;\n",
              "      border-left-color: var(--fill-color);\n",
              "      border-top-color: var(--fill-color);\n",
              "    }\n",
              "    30% {\n",
              "      border-color: transparent;\n",
              "      border-left-color: var(--fill-color);\n",
              "      border-top-color: var(--fill-color);\n",
              "      border-right-color: var(--fill-color);\n",
              "    }\n",
              "    40% {\n",
              "      border-color: transparent;\n",
              "      border-right-color: var(--fill-color);\n",
              "      border-top-color: var(--fill-color);\n",
              "    }\n",
              "    60% {\n",
              "      border-color: transparent;\n",
              "      border-right-color: var(--fill-color);\n",
              "    }\n",
              "    80% {\n",
              "      border-color: transparent;\n",
              "      border-right-color: var(--fill-color);\n",
              "      border-bottom-color: var(--fill-color);\n",
              "    }\n",
              "    90% {\n",
              "      border-color: transparent;\n",
              "      border-bottom-color: var(--fill-color);\n",
              "    }\n",
              "  }\n",
              "</style>\n",
              "\n",
              "  <script>\n",
              "    async function quickchart(key) {\n",
              "      const quickchartButtonEl =\n",
              "        document.querySelector('#' + key + ' button');\n",
              "      quickchartButtonEl.disabled = true;  // To prevent multiple clicks.\n",
              "      quickchartButtonEl.classList.add('colab-df-spinner');\n",
              "      try {\n",
              "        const charts = await google.colab.kernel.invokeFunction(\n",
              "            'suggestCharts', [key], {});\n",
              "      } catch (error) {\n",
              "        console.error('Error during call to suggestCharts:', error);\n",
              "      }\n",
              "      quickchartButtonEl.classList.remove('colab-df-spinner');\n",
              "      quickchartButtonEl.classList.add('colab-df-quickchart-complete');\n",
              "    }\n",
              "    (() => {\n",
              "      let quickchartButtonEl =\n",
              "        document.querySelector('#df-95242984-8abb-4f4d-b671-9087d00399c8 button');\n",
              "      quickchartButtonEl.style.display =\n",
              "        google.colab.kernel.accessAllowed ? 'block' : 'none';\n",
              "    })();\n",
              "  </script>\n",
              "</div>\n",
              "\n",
              "    </div>\n",
              "  </div>\n"
            ]
          },
          "metadata": {},
          "execution_count": 10
        }
      ]
    },
    {
      "cell_type": "markdown",
      "source": [
        "# <p style=\"font-family:JetBrains Mono; font-weight:normal; letter-spacing: 2px; color:#145f19; font-size:100%; text-align:center;padding: 0px; border-bottom: 3px solid #145f19\">Feature Extraction</p>"
      ],
      "metadata": {
        "id": "iBQ0f1ayZ1Vi"
      }
    },
    {
      "cell_type": "code",
      "source": [
        "# Print the number of trading days\n",
        "print(f'{rb}Total number of trading days: {end}{gbu}{data.shape[0]}{end}')\n",
        "print(f'{rb}Total number of fields: {end}{gbu}{data.shape[1]}{end}')\n",
        "print('\\n')\n",
        "\n",
        "# Check the Null and NA values\n",
        "print(f'{rb}Null values: {end}{gbu}{data.isnull().values.sum()}{end}')\n",
        "print(f'{rb}NA values: {end}{gbu}{data.isna().values.any()}{end}')"
      ],
      "metadata": {
        "execution": {
          "iopub.status.busy": "2023-01-10T14:46:22.491712Z",
          "iopub.execute_input": "2023-01-10T14:46:22.492416Z",
          "iopub.status.idle": "2023-01-10T14:46:22.504292Z",
          "shell.execute_reply.started": "2023-01-10T14:46:22.492379Z",
          "shell.execute_reply": "2023-01-10T14:46:22.502980Z"
        },
        "trusted": true,
        "colab": {
          "base_uri": "https://localhost:8080/"
        },
        "id": "KCVrD4hwZ1Vi",
        "outputId": "cc95cf06-ecfa-446d-e677-ef42761baa2f"
      },
      "execution_count": null,
      "outputs": [
        {
          "output_type": "stream",
          "name": "stdout",
          "text": [
            "\u001b[91m\u001b[1mTotal number of trading days: \u001b[0m\u001b[92m\u001b[1m\u001b[4m5044\u001b[0m\n",
            "\u001b[91m\u001b[1mTotal number of fields: \u001b[0m\u001b[92m\u001b[1m\u001b[4m10\u001b[0m\n",
            "\n",
            "\n",
            "\u001b[91m\u001b[1mNull values: \u001b[0m\u001b[92m\u001b[1m\u001b[4m0\u001b[0m\n",
            "\u001b[91m\u001b[1mNA values: \u001b[0m\u001b[92m\u001b[1m\u001b[4mFalse\u001b[0m\n"
          ]
        }
      ]
    },
    {
      "cell_type": "markdown",
      "source": [
        "* We will select from the dataset the **Open** column represents the starting price of the stock for a particular day."
      ],
      "metadata": {
        "id": "IswrcxyXZ1Vi"
      }
    },
    {
      "cell_type": "code",
      "source": [
        "# Create a new dataframe with only the Open column and convert it into a NumPy array\n",
        "data = data['Open'].values\n",
        "\n",
        "# Reshape the data\n",
        "data = data.reshape(-1, 1)"
      ],
      "metadata": {
        "execution": {
          "iopub.status.busy": "2023-01-10T14:46:40.183648Z",
          "iopub.execute_input": "2023-01-10T14:46:40.184035Z",
          "iopub.status.idle": "2023-01-10T14:46:40.189601Z",
          "shell.execute_reply.started": "2023-01-10T14:46:40.184002Z",
          "shell.execute_reply": "2023-01-10T14:46:40.188404Z"
        },
        "trusted": true,
        "id": "9G6GHP7bZ1Vi"
      },
      "execution_count": null,
      "outputs": []
    },
    {
      "cell_type": "code",
      "source": [
        "# Split the data into training and testing sets\n",
        "dataset_train = np.array(data[:int(data.shape[0]*0.8)])\n",
        "dataset_test = np.array(data[int(data.shape[0]*0.8):])"
      ],
      "metadata": {
        "execution": {
          "iopub.status.busy": "2023-01-10T14:46:43.743610Z",
          "iopub.execute_input": "2023-01-10T14:46:43.744014Z",
          "iopub.status.idle": "2023-01-10T14:46:43.749192Z",
          "shell.execute_reply.started": "2023-01-10T14:46:43.743980Z",
          "shell.execute_reply": "2023-01-10T14:46:43.748270Z"
        },
        "trusted": true,
        "id": "7CX50eSOZ1Vi"
      },
      "execution_count": null,
      "outputs": []
    },
    {
      "cell_type": "markdown",
      "source": [
        "* To produce the best-optimized results, we are required to scale the data.\n",
        "\n",
        "* For this task, we are leveraging scikit-learn library’s **MinMaxScaler()** for converting the input values between 0 to 1."
      ],
      "metadata": {
        "id": "cdV4-W0uZ1Vj"
      }
    },
    {
      "cell_type": "code",
      "source": [
        "# Scale the data\n",
        "scaler = MinMaxScaler(feature_range=(0,1))\n",
        "\n",
        "dataset_train = scaler.fit_transform(dataset_train)\n",
        "dataset_test = scaler.transform(dataset_test)"
      ],
      "metadata": {
        "execution": {
          "iopub.status.busy": "2023-01-10T14:46:58.283388Z",
          "iopub.execute_input": "2023-01-10T14:46:58.283775Z",
          "iopub.status.idle": "2023-01-10T14:46:58.291007Z",
          "shell.execute_reply.started": "2023-01-10T14:46:58.283740Z",
          "shell.execute_reply": "2023-01-10T14:46:58.290027Z"
        },
        "trusted": true,
        "id": "t0TOUTjiZ1Vp"
      },
      "execution_count": null,
      "outputs": []
    },
    {
      "cell_type": "markdown",
      "source": [
        "* We will create the helper function with 50 timesteps. In other words, for the features(x) we'll append the last 50 prices, and for the label(y) we'll append the next price.\n",
        "\n",
        "* After that we will convert it into a NumPy array."
      ],
      "metadata": {
        "id": "SYVTbzLxZ1Vp"
      }
    },
    {
      "cell_type": "code",
      "source": [
        "# Create the function that will help us to create the datasets\n",
        "def create_dataset(df):\n",
        "    x = []\n",
        "    y = []\n",
        "    for i in range(50, df.shape[0]):\n",
        "        x.append(df[i-50:i, 0])\n",
        "        y.append(df[i, 0])\n",
        "    x = np.array(x)\n",
        "    y = np.array(y)\n",
        "    return x,y"
      ],
      "metadata": {
        "execution": {
          "iopub.status.busy": "2023-01-10T14:47:11.236310Z",
          "iopub.execute_input": "2023-01-10T14:47:11.236667Z",
          "iopub.status.idle": "2023-01-10T14:47:11.242720Z",
          "shell.execute_reply.started": "2023-01-10T14:47:11.236635Z",
          "shell.execute_reply": "2023-01-10T14:47:11.241545Z"
        },
        "trusted": true,
        "id": "x-7_C9vSZ1Vp"
      },
      "execution_count": null,
      "outputs": []
    },
    {
      "cell_type": "code",
      "source": [
        "# Create the training and testing data by calling our function for each one\n",
        "x_train, y_train = create_dataset(dataset_train)\n",
        "x_test, y_test = create_dataset(dataset_test)"
      ],
      "metadata": {
        "execution": {
          "iopub.status.busy": "2023-01-10T14:47:12.701679Z",
          "iopub.execute_input": "2023-01-10T14:47:12.702069Z",
          "iopub.status.idle": "2023-01-10T14:47:12.715569Z",
          "shell.execute_reply.started": "2023-01-10T14:47:12.702034Z",
          "shell.execute_reply": "2023-01-10T14:47:12.714434Z"
        },
        "trusted": true,
        "id": "XFA5oGzPZ1Vp"
      },
      "execution_count": null,
      "outputs": []
    },
    {
      "cell_type": "code",
      "source": [
        "# Reshape the data to make it a 3D array in order to use it in LSTM Layer\n",
        "x_train = np.reshape(x_train, (x_train.shape[0], x_train.shape[1], 1))\n",
        "x_test = np.reshape(x_test, (x_test.shape[0], x_test.shape[1], 1))"
      ],
      "metadata": {
        "execution": {
          "iopub.status.busy": "2023-01-10T14:47:13.073129Z",
          "iopub.execute_input": "2023-01-10T14:47:13.073939Z",
          "iopub.status.idle": "2023-01-10T14:47:13.079122Z",
          "shell.execute_reply.started": "2023-01-10T14:47:13.073878Z",
          "shell.execute_reply": "2023-01-10T14:47:13.077969Z"
        },
        "trusted": true,
        "id": "gLysjHCsZ1Vp"
      },
      "execution_count": null,
      "outputs": []
    },
    {
      "cell_type": "markdown",
      "source": [
        "# <p style=\"font-family:JetBrains Mono; font-weight:normal; letter-spacing: 2px; color:#145f19; font-size:100%; text-align:center;padding: 0px; border-bottom: 3px solid #145f19\">Building Model</p>\n",
        "* For the LSTM layer, we add **96 units** that represent the dimensionality of the output space.\n",
        "\n",
        "* The **return_sequences parameter** is set to **True** for returning the last output in output.\n",
        "\n",
        "* For the Dropout layers, we specify the percentage of layers is **20%** that should be dropped.\n",
        "\n",
        "* The next step is to add the Dense layer."
      ],
      "metadata": {
        "id": "dugQS2UrZ1Vp"
      }
    },
    {
      "cell_type": "code",
      "source": [
        "model = Sequential()\n",
        "model.add(LSTM(units=96, return_sequences=True, input_shape=(x_train.shape[1], 1)))\n",
        "model.add(Dropout(0.2))\n",
        "model.add(LSTM(units=96, return_sequences=True))\n",
        "model.add(Dropout(0.2))\n",
        "model.add(LSTM(units=96, return_sequences=True))\n",
        "model.add(Dropout(0.2))\n",
        "model.add(LSTM(units=96))\n",
        "model.add(Dropout(0.2))\n",
        "model.add(Dense(units=1))"
      ],
      "metadata": {
        "execution": {
          "iopub.status.busy": "2023-01-10T14:47:49.410674Z",
          "iopub.execute_input": "2023-01-10T14:47:49.411083Z",
          "iopub.status.idle": "2023-01-10T14:47:50.208686Z",
          "shell.execute_reply.started": "2023-01-10T14:47:49.411048Z",
          "shell.execute_reply": "2023-01-10T14:47:50.207680Z"
        },
        "trusted": true,
        "id": "TjsfrkRcZ1Vq"
      },
      "execution_count": null,
      "outputs": []
    },
    {
      "cell_type": "code",
      "source": [
        "# Summary of the model\n",
        "model.summary()"
      ],
      "metadata": {
        "execution": {
          "iopub.status.busy": "2023-01-10T14:48:13.340642Z",
          "iopub.execute_input": "2023-01-10T14:48:13.341358Z",
          "iopub.status.idle": "2023-01-10T14:48:13.348286Z",
          "shell.execute_reply.started": "2023-01-10T14:48:13.341319Z",
          "shell.execute_reply": "2023-01-10T14:48:13.347135Z"
        },
        "trusted": true,
        "colab": {
          "base_uri": "https://localhost:8080/"
        },
        "id": "Pix1WEn3Z1Vq",
        "outputId": "03a85ac5-af8c-4622-9913-3f1809b6234f"
      },
      "execution_count": null,
      "outputs": [
        {
          "output_type": "stream",
          "name": "stdout",
          "text": [
            "Model: \"sequential\"\n",
            "_________________________________________________________________\n",
            " Layer (type)                Output Shape              Param #   \n",
            "=================================================================\n",
            " lstm (LSTM)                 (None, 50, 96)            37632     \n",
            "                                                                 \n",
            " dropout (Dropout)           (None, 50, 96)            0         \n",
            "                                                                 \n",
            " lstm_1 (LSTM)               (None, 50, 96)            74112     \n",
            "                                                                 \n",
            " dropout_1 (Dropout)         (None, 50, 96)            0         \n",
            "                                                                 \n",
            " lstm_2 (LSTM)               (None, 50, 96)            74112     \n",
            "                                                                 \n",
            " dropout_2 (Dropout)         (None, 50, 96)            0         \n",
            "                                                                 \n",
            " lstm_3 (LSTM)               (None, 96)                74112     \n",
            "                                                                 \n",
            " dropout_3 (Dropout)         (None, 96)                0         \n",
            "                                                                 \n",
            " dense (Dense)               (None, 1)                 97        \n",
            "                                                                 \n",
            "=================================================================\n",
            "Total params: 260065 (1015.88 KB)\n",
            "Trainable params: 260065 (1015.88 KB)\n",
            "Non-trainable params: 0 (0.00 Byte)\n",
            "_________________________________________________________________\n"
          ]
        }
      ]
    },
    {
      "cell_type": "code",
      "source": [
        "# Reshape the feature for the LSTM layer\n",
        "x_train = np.reshape(x_train, (x_train.shape[0], x_train.shape[1], 1)) # for expecting 3 dimentions, not 2\n",
        "x_test = np.reshape(x_test, (x_test.shape[0], x_test.shape[1], 1))"
      ],
      "metadata": {
        "execution": {
          "iopub.status.busy": "2023-01-10T14:48:16.627272Z",
          "iopub.execute_input": "2023-01-10T14:48:16.627637Z",
          "iopub.status.idle": "2023-01-10T14:48:16.632719Z",
          "shell.execute_reply.started": "2023-01-10T14:48:16.627604Z",
          "shell.execute_reply": "2023-01-10T14:48:16.631798Z"
        },
        "trusted": true,
        "id": "t12QB9_tZ1Vq"
      },
      "execution_count": null,
      "outputs": []
    },
    {
      "cell_type": "markdown",
      "source": [
        "* We will compile the model with the help of **adam** optimizer.\n",
        "\n",
        "* The error is computed using **mean_squared_error**."
      ],
      "metadata": {
        "id": "57IF7cSMZ1Vq"
      }
    },
    {
      "cell_type": "code",
      "source": [
        "# Compile the model\n",
        "model.compile(loss='mean_squared_error', optimizer='adam')"
      ],
      "metadata": {
        "execution": {
          "iopub.status.busy": "2023-01-10T14:48:26.028107Z",
          "iopub.execute_input": "2023-01-10T14:48:26.028473Z",
          "iopub.status.idle": "2023-01-10T14:48:26.042623Z",
          "shell.execute_reply.started": "2023-01-10T14:48:26.028440Z",
          "shell.execute_reply": "2023-01-10T14:48:26.041660Z"
        },
        "trusted": true,
        "id": "kVlBB3u6Z1Vq"
      },
      "execution_count": null,
      "outputs": []
    },
    {
      "cell_type": "markdown",
      "source": [
        "# <p style=\"font-family:JetBrains Mono; font-weight:normal; letter-spacing: 2px; color:#145f19; font-size:100%; text-align:center;padding: 0px; border-bottom: 3px solid #145f19\">Training Model</p>\n",
        "* With our model and data constructed, we can now train the model."
      ],
      "metadata": {
        "id": "aqrU_fthZ1Vq"
      }
    },
    {
      "cell_type": "code",
      "source": [
        "# Define modifiable training hyperparameters\n",
        "epochs = 40\n",
        "batch_size = 64\n",
        "\n",
        "# Save the model and start the training\n",
        "model.fit(x_train, y_train, epochs=epochs, batch_size=batch_size)\n",
        "model.save('stock_prediction')"
      ],
      "metadata": {
        "execution": {
          "iopub.status.busy": "2023-01-10T14:49:10.525070Z",
          "iopub.execute_input": "2023-01-10T14:49:10.525654Z",
          "iopub.status.idle": "2023-01-10T14:50:09.330515Z",
          "shell.execute_reply.started": "2023-01-10T14:49:10.525618Z",
          "shell.execute_reply": "2023-01-10T14:50:09.329541Z"
        },
        "trusted": true,
        "colab": {
          "base_uri": "https://localhost:8080/"
        },
        "id": "Yd1c7_sFZ1Vq",
        "outputId": "7eba7a07-3e84-4b60-844f-b028e8ca7215"
      },
      "execution_count": null,
      "outputs": [
        {
          "output_type": "stream",
          "name": "stdout",
          "text": [
            "Epoch 1/40\n",
            "63/63 [==============================] - 33s 367ms/step - loss: 0.0039\n",
            "Epoch 2/40\n",
            "63/63 [==============================] - 24s 379ms/step - loss: 7.4031e-04\n",
            "Epoch 3/40\n",
            "63/63 [==============================] - 22s 352ms/step - loss: 5.8314e-04\n",
            "Epoch 4/40\n",
            "63/63 [==============================] - 24s 376ms/step - loss: 6.9775e-04\n",
            "Epoch 5/40\n",
            "63/63 [==============================] - 24s 375ms/step - loss: 6.4764e-04\n",
            "Epoch 6/40\n",
            "63/63 [==============================] - 23s 358ms/step - loss: 5.6351e-04\n",
            "Epoch 7/40\n",
            "63/63 [==============================] - 24s 371ms/step - loss: 5.1220e-04\n",
            "Epoch 8/40\n",
            "63/63 [==============================] - 24s 385ms/step - loss: 5.4183e-04\n",
            "Epoch 9/40\n",
            "63/63 [==============================] - 23s 360ms/step - loss: 6.3038e-04\n",
            "Epoch 10/40\n",
            "63/63 [==============================] - 24s 370ms/step - loss: 5.1073e-04\n",
            "Epoch 11/40\n",
            "63/63 [==============================] - 24s 380ms/step - loss: 6.3955e-04\n",
            "Epoch 12/40\n",
            "63/63 [==============================] - 23s 360ms/step - loss: 5.0379e-04\n",
            "Epoch 13/40\n",
            "63/63 [==============================] - 23s 366ms/step - loss: 4.3017e-04\n",
            "Epoch 14/40\n",
            "63/63 [==============================] - 23s 373ms/step - loss: 5.0301e-04\n",
            "Epoch 15/40\n",
            "63/63 [==============================] - 23s 370ms/step - loss: 4.1478e-04\n",
            "Epoch 16/40\n",
            "63/63 [==============================] - 23s 360ms/step - loss: 4.4013e-04\n",
            "Epoch 17/40\n",
            "63/63 [==============================] - 24s 389ms/step - loss: 4.4959e-04\n",
            "Epoch 18/40\n",
            "63/63 [==============================] - 23s 358ms/step - loss: 4.7313e-04\n",
            "Epoch 19/40\n",
            "63/63 [==============================] - 23s 368ms/step - loss: 4.5681e-04\n",
            "Epoch 20/40\n",
            "63/63 [==============================] - 24s 383ms/step - loss: 6.0950e-04\n",
            "Epoch 21/40\n",
            "63/63 [==============================] - 23s 362ms/step - loss: 4.6799e-04\n",
            "Epoch 22/40\n",
            "63/63 [==============================] - 23s 362ms/step - loss: 3.7883e-04\n",
            "Epoch 23/40\n",
            "63/63 [==============================] - 24s 383ms/step - loss: 4.7986e-04\n",
            "Epoch 24/40\n",
            "63/63 [==============================] - 23s 371ms/step - loss: 3.2774e-04\n",
            "Epoch 25/40\n",
            "63/63 [==============================] - 23s 363ms/step - loss: 3.4848e-04\n",
            "Epoch 26/40\n",
            "63/63 [==============================] - 24s 378ms/step - loss: 4.2435e-04\n",
            "Epoch 27/40\n",
            "63/63 [==============================] - 23s 369ms/step - loss: 3.6764e-04\n",
            "Epoch 28/40\n",
            "63/63 [==============================] - 23s 357ms/step - loss: 3.4904e-04\n",
            "Epoch 29/40\n",
            "63/63 [==============================] - 24s 377ms/step - loss: 3.7458e-04\n",
            "Epoch 30/40\n",
            "63/63 [==============================] - 24s 382ms/step - loss: 3.0687e-04\n",
            "Epoch 31/40\n",
            "63/63 [==============================] - 23s 355ms/step - loss: 3.6116e-04\n",
            "Epoch 32/40\n",
            "63/63 [==============================] - 24s 381ms/step - loss: 3.4858e-04\n",
            "Epoch 33/40\n",
            "63/63 [==============================] - 25s 393ms/step - loss: 3.8358e-04\n",
            "Epoch 34/40\n",
            "63/63 [==============================] - 22s 352ms/step - loss: 3.3301e-04\n",
            "Epoch 35/40\n",
            "63/63 [==============================] - 24s 386ms/step - loss: 2.6766e-04\n",
            "Epoch 36/40\n",
            "63/63 [==============================] - 24s 383ms/step - loss: 3.5599e-04\n",
            "Epoch 37/40\n",
            "63/63 [==============================] - 22s 353ms/step - loss: 3.4073e-04\n",
            "Epoch 38/40\n",
            "63/63 [==============================] - 24s 383ms/step - loss: 3.3470e-04\n",
            "Epoch 39/40\n",
            "63/63 [==============================] - 24s 388ms/step - loss: 3.0691e-04\n",
            "Epoch 40/40\n",
            "63/63 [==============================] - 23s 358ms/step - loss: 3.0927e-04\n"
          ]
        }
      ]
    },
    {
      "cell_type": "code",
      "source": [
        "# Load the model\n",
        "model = load_model('stock_prediction')"
      ],
      "metadata": {
        "execution": {
          "iopub.status.busy": "2023-01-10T14:51:02.903253Z",
          "iopub.execute_input": "2023-01-10T14:51:02.903625Z",
          "iopub.status.idle": "2023-01-10T14:51:09.492543Z",
          "shell.execute_reply.started": "2023-01-10T14:51:02.903594Z",
          "shell.execute_reply": "2023-01-10T14:51:09.491533Z"
        },
        "trusted": true,
        "id": "dDzuVm2oZ1Vq"
      },
      "execution_count": null,
      "outputs": []
    },
    {
      "cell_type": "markdown",
      "source": [
        "# <p style=\"font-family:JetBrains Mono; font-weight:normal; letter-spacing: 2px; color:#145f19; font-size:100%; text-align:center;padding: 0px; border-bottom: 3px solid #145f19\">Prediction Model</p>"
      ],
      "metadata": {
        "id": "OiH83-mKZ1Vr"
      }
    },
    {
      "cell_type": "code",
      "source": [
        "predictions = model.predict(x_test)\n",
        "predictions = scaler.inverse_transform(predictions)\n",
        "y_test_scaled = scaler.inverse_transform(y_test.reshape(-1, 1))"
      ],
      "metadata": {
        "execution": {
          "iopub.status.busy": "2023-01-10T14:52:06.407683Z",
          "iopub.execute_input": "2023-01-10T14:52:06.408093Z",
          "iopub.status.idle": "2023-01-10T14:52:07.558400Z",
          "shell.execute_reply.started": "2023-01-10T14:52:06.408057Z",
          "shell.execute_reply": "2023-01-10T14:52:07.557302Z"
        },
        "trusted": true,
        "colab": {
          "base_uri": "https://localhost:8080/"
        },
        "id": "1Oc76udWZ1Vr",
        "outputId": "0d8e0461-3879-4b89-c8c8-9a403f79bcc2"
      },
      "execution_count": null,
      "outputs": [
        {
          "output_type": "stream",
          "name": "stdout",
          "text": [
            "30/30 [==============================] - 4s 62ms/step\n"
          ]
        }
      ]
    },
    {
      "cell_type": "markdown",
      "source": [
        "# <p style=\"font-family:JetBrains Mono; font-weight:normal; letter-spacing: 2px; color:#145f19; font-size:100%; text-align:center;padding: 0px; border-bottom: 3px solid #145f19\">Plotting Results</p>"
      ],
      "metadata": {
        "id": "mbXWvGAZZ1Vr"
      }
    },
    {
      "cell_type": "code",
      "source": [
        "plt.style.use('dark_background')\n",
        "fig, ax = plt.subplots(figsize=(20,15))\n",
        "ax.set_facecolor('#000035')\n",
        "ax.plot(y_test_scaled, color='fuchsia', linewidth=2, label='Original price')\n",
        "plt.plot(predictions, color='greenyellow', linewidth=2.5, label='Predicted price')\n",
        "plt.title('Netflix Stock Price Prediction')\n",
        "plt.legend();"
      ],
      "metadata": {
        "execution": {
          "iopub.status.busy": "2023-01-10T14:52:10.591605Z",
          "iopub.execute_input": "2023-01-10T14:52:10.592300Z",
          "iopub.status.idle": "2023-01-10T14:52:10.902375Z",
          "shell.execute_reply.started": "2023-01-10T14:52:10.592265Z",
          "shell.execute_reply": "2023-01-10T14:52:10.901427Z"
        },
        "trusted": true,
        "colab": {
          "base_uri": "https://localhost:8080/",
          "height": 853
        },
        "id": "IlB3faJpZ1Vr",
        "outputId": "7465d9be-0296-4a05-cb29-2926631e39ea"
      },
      "execution_count": null,
      "outputs": [
        {
          "output_type": "display_data",
          "data": {
            "text/plain": [
              "<Figure size 2000x1500 with 1 Axes>"
            ],
            "image/png": "[encoded data removed]"
          },
          "metadata": {}
        }
      ]
    },
    {
      "cell_type": "markdown",
      "source": [
        "<h3 style=\"color:#d16969; font-style:italic; font-family:JetBrains Mono; font-weight:normal; letter-spacing: 2px;\"> <center>Thanks for visiting my notebook!</center> </h3>\n",
        "\n",
        "<br><center><img src='https://media.giphy.com/media/hpXdHPfFI5wTABdDx9/giphy.gif'\n",
        "     height=30px width=160px /></center></br>     \n",
        "     \n",
        "<h1 style=\"color:#145f19; font-style:italic; font-family:JetBrains Mono; font-weight:normal; letter-spacing: 2px;\"> <center>👍 If you find this notebook useful, please support with an upvote 👍</center> </h1>\n"
      ],
      "metadata": {
        "id": "isJJnfi6Z1Vr"
      }
    }
  ]
}